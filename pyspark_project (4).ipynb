{
 "cells": [
  {
   "cell_type": "code",
   "execution_count": null,
   "metadata": {
    "colab": {
     "base_uri": "https://localhost:8080/"
    },
    "executionInfo": {
     "elapsed": 39002,
     "status": "ok",
     "timestamp": 1607346485736,
     "user": {
      "displayName": "Mugunthan R",
      "photoUrl": "https://lh3.googleusercontent.com/a-/AOh14GhCVxXpaXrQ-JK5a7Vy04sGYy2AdjjfnE8yJ-DG=s64",
      "userId": "05783290420153470599"
     },
     "user_tz": -330
    },
    "id": "Zlx0oZodT-OT",
    "outputId": "4f607b4f-8814-46d1-e6ca-9517edb8ebe4"
   },
   "outputs": [],
   "source": [
    "pip install pyspark"
   ]
  },
  {
   "cell_type": "code",
   "execution_count": 1,
   "metadata": {},
   "outputs": [],
   "source": [
    "import os\n",
    "os.environ[\"JAVA_HOME\"] = \"C:/Program Files/Java/jdk1.8.0_251\"\n",
    "os.environ[\"PATH\"] = os.environ[\"JAVA_HOME\"] + \"/bin:\" + os.environ[\"PATH\"]"
   ]
  },
  {
   "cell_type": "code",
   "execution_count": 2,
   "metadata": {
    "id": "shdvPL5mT5p3"
   },
   "outputs": [],
   "source": [
    "# Importing pyspark\n",
    "from pyspark.sql import SparkSession"
   ]
  },
  {
   "cell_type": "code",
   "execution_count": null,
   "metadata": {
    "id": "Zwpn4VdxT5p4"
   },
   "outputs": [],
   "source": [
    "spark = SparkSession.builder.appName('Accident').getOrCreate()"
   ]
  },
  {
   "cell_type": "code",
   "execution_count": null,
   "metadata": {
    "colab": {
     "base_uri": "https://localhost:8080/",
     "height": 221
    },
    "executionInfo": {
     "elapsed": 1139,
     "status": "error",
     "timestamp": 1607347136254,
     "user": {
      "displayName": "Mugunthan R",
      "photoUrl": "https://lh3.googleusercontent.com/a-/AOh14GhCVxXpaXrQ-JK5a7Vy04sGYy2AdjjfnE8yJ-DG=s64",
      "userId": "05783290420153470599"
     },
     "user_tz": -330
    },
    "id": "_1iW2VLdT5p4",
    "outputId": "ad0c196c-070c-47ae-eebe-b74104cb6361"
   },
   "outputs": [],
   "source": [
    "df = spark.read.csv('US_Accidents_June20.csv', header = True,inferSchema = True)"
   ]
  },
  {
   "cell_type": "code",
   "execution_count": null,
   "metadata": {
    "id": "NqMy-shpT5p4",
    "outputId": "81103e71-f0b8-47f4-d7dc-0ed6eb8f60cb"
   },
   "outputs": [
    {
     "name": "stdout",
     "output_type": "stream",
     "text": [
      "root\n",
      " |-- ID: string (nullable = true)\n",
      " |-- Source: string (nullable = true)\n",
      " |-- TMC: double (nullable = true)\n",
      " |-- Severity: integer (nullable = true)\n",
      " |-- Start_Time: string (nullable = true)\n",
      " |-- End_Time: string (nullable = true)\n",
      " |-- Start_Lat: double (nullable = true)\n",
      " |-- Start_Lng: double (nullable = true)\n",
      " |-- End_Lat: double (nullable = true)\n",
      " |-- End_Lng: double (nullable = true)\n",
      " |-- Distance(mi): double (nullable = true)\n",
      " |-- Description: string (nullable = true)\n",
      " |-- Number: double (nullable = true)\n",
      " |-- Street: string (nullable = true)\n",
      " |-- Side: string (nullable = true)\n",
      " |-- City: string (nullable = true)\n",
      " |-- County: string (nullable = true)\n",
      " |-- State: string (nullable = true)\n",
      " |-- Zipcode: string (nullable = true)\n",
      " |-- Country: string (nullable = true)\n",
      " |-- Timezone: string (nullable = true)\n",
      " |-- Airport_Code: string (nullable = true)\n",
      " |-- Weather_Timestamp: string (nullable = true)\n",
      " |-- Temperature(F): double (nullable = true)\n",
      " |-- Wind_Chill(F): double (nullable = true)\n",
      " |-- Humidity(%): double (nullable = true)\n",
      " |-- Pressure(in): double (nullable = true)\n",
      " |-- Visibility(mi): double (nullable = true)\n",
      " |-- Wind_Direction: string (nullable = true)\n",
      " |-- Wind_Speed(mph): double (nullable = true)\n",
      " |-- Precipitation(in): double (nullable = true)\n",
      " |-- Weather_Condition: string (nullable = true)\n",
      " |-- Amenity: boolean (nullable = true)\n",
      " |-- Bump: boolean (nullable = true)\n",
      " |-- Crossing: boolean (nullable = true)\n",
      " |-- Give_Way: boolean (nullable = true)\n",
      " |-- Junction: boolean (nullable = true)\n",
      " |-- No_Exit: boolean (nullable = true)\n",
      " |-- Railway: boolean (nullable = true)\n",
      " |-- Roundabout: boolean (nullable = true)\n",
      " |-- Station: boolean (nullable = true)\n",
      " |-- Stop: boolean (nullable = true)\n",
      " |-- Traffic_Calming: boolean (nullable = true)\n",
      " |-- Traffic_Signal: boolean (nullable = true)\n",
      " |-- Turning_Loop: boolean (nullable = true)\n",
      " |-- Sunrise_Sunset: string (nullable = true)\n",
      " |-- Civil_Twilight: string (nullable = true)\n",
      " |-- Nautical_Twilight: string (nullable = true)\n",
      " |-- Astronomical_Twilight: string (nullable = true)\n",
      "\n"
     ]
    }
   ],
   "source": [
    "df.printSchema()"
   ]
  },
  {
   "cell_type": "markdown",
   "metadata": {
    "id": "Akx62Cv-T5p6"
   },
   "source": [
    "# Droping unwanted columns"
   ]
  },
  {
   "cell_type": "code",
   "execution_count": null,
   "metadata": {
    "id": "Bk4GvFQmT5p6",
    "outputId": "c49c6467-1d41-4b70-9eb7-c294519af905"
   },
   "outputs": [
    {
     "name": "stdout",
     "output_type": "stream",
     "text": [
      "Total columns :  <bound method DataFrame.count of DataFrame[Source: string, TMC: double, Severity: int, Start_Time: string, End_Time: string, Start_Lat: double, Start_Lng: double, Distance(mi): double, Description: string, Street: string, Side: string, City: string, County: string, State: string, Zipcode: string, Country: string, Timezone: string, Airport_Code: string, Weather_Timestamp: string, Temperature(F): double, Humidity(%): double, Pressure(in): double, Visibility(mi): double, Wind_Direction: string, Wind_Speed(mph): double, Precipitation(in): double, Weather_Condition: string, Amenity: boolean, Bump: boolean, Crossing: boolean, Give_Way: boolean, Junction: boolean, No_Exit: boolean, Railway: boolean, Roundabout: boolean, Station: boolean, Stop: boolean, Traffic_Calming: boolean, Traffic_Signal: boolean, Turning_Loop: boolean, Sunrise_Sunset: string, Civil_Twilight: string, Nautical_Twilight: string, Astronomical_Twilight: string]>\n"
     ]
    }
   ],
   "source": [
    "# drop columns\n",
    "columns_to_drop = ['End_Lat', 'End_Lng','Wind_Chill(F)','Number', 'ID']\n",
    "df = df.drop(*columns_to_drop)\n",
    "df.columns\n",
    "print(\"Total columns : \",df.count)"
   ]
  },
  {
   "cell_type": "code",
   "execution_count": null,
   "metadata": {
    "id": "cn-0PRDfT5p6",
    "outputId": "15aaf8c6-ec88-40ba-db4f-8be643aa8103"
   },
   "outputs": [
    {
     "name": "stdout",
     "output_type": "stream",
     "text": [
      "1.0\n"
     ]
    }
   ],
   "source": [
    "# percentage of null values \n",
    "print(df.count()/3513617)"
   ]
  },
  {
   "cell_type": "code",
   "execution_count": null,
   "metadata": {
    "id": "CoOKk7iyT5p7",
    "outputId": "3099fcd7-f9e8-45af-f2df-a5438607f567"
   },
   "outputs": [
    {
     "data": {
      "text/plain": [
       "DataFrame[Source: string, TMC: double, Severity: int, Start_Time: string, End_Time: string, Start_Lat: double, Start_Lng: double, Distance(mi): double, Description: string, Street: string, Side: string, City: string, County: string, State: string, Zipcode: string, Country: string, Timezone: string, Airport_Code: string, Weather_Timestamp: string, Temperature(F): double, Humidity(%): double, Pressure(in): double, Visibility(mi): double, Wind_Direction: string, Wind_Speed(mph): double, Precipitation(in): double, Weather_Condition: string, Amenity: boolean, Bump: boolean, Crossing: boolean, Give_Way: boolean, Junction: boolean, No_Exit: boolean, Railway: boolean, Roundabout: boolean, Station: boolean, Stop: boolean, Traffic_Calming: boolean, Traffic_Signal: boolean, Turning_Loop: boolean, Sunrise_Sunset: string, Civil_Twilight: string, Nautical_Twilight: string, Astronomical_Twilight: string]"
      ]
     },
     "execution_count": 9,
     "metadata": {
      "tags": []
     },
     "output_type": "execute_result"
    }
   ],
   "source": [
    "# calculating null in TMC\n",
    "df.groupBy('TMC').count().orderBy('count')\n",
    "# droping nan values in TMC\n",
    "df.na.drop(subset=[\"TMC\"])"
   ]
  },
  {
   "cell_type": "markdown",
   "metadata": {
    "id": "mDVA5OXlT5p7"
   },
   "source": [
    "# Filling missing data"
   ]
  },
  {
   "cell_type": "code",
   "execution_count": null,
   "metadata": {
    "id": "G4GaLaFMT5p7",
    "outputId": "a9666b4f-e4e9-4244-f853-64ca0dabe02e"
   },
   "outputs": [
    {
     "name": "stdout",
     "output_type": "stream",
     "text": [
      "+--------+-----+--------+-------------------+-------------------+---------+----------+------------+--------------------+--------------------+----+------------+----------+-----+----------+-------+----------+------------+-------------------+--------------+-----------+------------+--------------+--------------+---------------+-----------------+-----------------+-------+-----+--------+--------+--------+-------+-------+----------+-------+-----+---------------+--------------+------------+--------------+--------------+-----------------+---------------------+\n",
      "|  Source|  TMC|Severity|         Start_Time|           End_Time|Start_Lat| Start_Lng|Distance(mi)|         Description|              Street|Side|        City|    County|State|   Zipcode|Country|  Timezone|Airport_Code|  Weather_Timestamp|Temperature(F)|Humidity(%)|Pressure(in)|Visibility(mi)|Wind_Direction|Wind_Speed(mph)|Precipitation(in)|Weather_Condition|Amenity| Bump|Crossing|Give_Way|Junction|No_Exit|Railway|Roundabout|Station| Stop|Traffic_Calming|Traffic_Signal|Turning_Loop|Sunrise_Sunset|Civil_Twilight|Nautical_Twilight|Astronomical_Twilight|\n",
      "+--------+-----+--------+-------------------+-------------------+---------+----------+------------+--------------------+--------------------+----+------------+----------+-----+----------+-------+----------+------------+-------------------+--------------+-----------+------------+--------------+--------------+---------------+-----------------+-----------------+-------+-----+--------+--------+--------+-------+-------+----------+-------+-----+---------------+--------------+------------+--------------+--------------+-----------------+---------------------+\n",
      "|MapQuest|201.0|       3|2016-02-08 05:46:00|2016-02-08 11:00:00|39.865147|-84.058723|        0.01|Right lane blocke...|              I-70 E|   R|      Dayton|Montgomery|   OH|     45424|     US|US/Eastern|        KFFO|2016-02-08 05:58:00|          36.9|       91.0|       29.68|          10.0|          Calm|           null|             0.02|       Light Rain|  false|false|   false|   false|   false|  false|  false|     false|  false|false|          false|         false|       false|         Night|         Night|            Night|                Night|\n",
      "|MapQuest|201.0|       2|2016-02-08 06:07:59|2016-02-08 06:37:59|39.928059|-82.831184|        0.01|Accident on Brice...|            Brice Rd|   L|Reynoldsburg|  Franklin|   OH|43068-3402|     US|US/Eastern|        KCMH|2016-02-08 05:51:00|          37.9|      100.0|       29.65|          10.0|          Calm|           null|              0.0|       Light Rain|  false|false|   false|   false|   false|  false|  false|     false|  false|false|          false|         false|       false|         Night|         Night|            Night|                  Day|\n",
      "|MapQuest|201.0|       2|2016-02-08 06:49:27|2016-02-08 07:19:27|39.063148|-84.032608|        0.01|Accident on OH-32...|      State Route 32|   R|Williamsburg|  Clermont|   OH|     45176|     US|US/Eastern|        KI69|2016-02-08 06:56:00|          36.0|      100.0|       29.67|          10.0|            SW|            3.5|             null|         Overcast|  false|false|   false|   false|   false|  false|  false|     false|  false|false|          false|          true|       false|         Night|         Night|              Day|                  Day|\n",
      "|MapQuest|201.0|       3|2016-02-08 07:23:34|2016-02-08 07:53:34|39.747753|-84.205582|        0.01|Accident on I-75 ...|              I-75 S|   R|      Dayton|Montgomery|   OH|     45417|     US|US/Eastern|        KDAY|2016-02-08 07:38:00|          35.1|       96.0|       29.64|           9.0|            SW|            4.6|             null|    Mostly Cloudy|  false|false|   false|   false|   false|  false|  false|     false|  false|false|          false|         false|       false|         Night|           Day|              Day|                  Day|\n",
      "|MapQuest|201.0|       2|2016-02-08 07:39:07|2016-02-08 08:09:07|39.627781|-84.188354|        0.01|Accident on McEwe...|Miamisburg Center...|   R|      Dayton|Montgomery|   OH|     45459|     US|US/Eastern|        KMGY|2016-02-08 07:53:00|          36.0|       89.0|       29.65|           6.0|            SW|            3.5|             null|    Mostly Cloudy|  false|false|   false|   false|   false|  false|  false|     false|  false|false|          false|          true|       false|           Day|           Day|              Day|                  Day|\n",
      "|MapQuest|201.0|       3|2016-02-08 07:44:26|2016-02-08 08:14:26| 40.10059|-82.925194|        0.01|Accident on I-270...|      Westerville Rd|   R| Westerville|  Franklin|   OH|     43081|     US|US/Eastern|        KCMH|2016-02-08 07:51:00|          37.9|       97.0|       29.63|           7.0|           SSW|            3.5|             0.03|       Light Rain|  false|false|   false|   false|   false|  false|  false|     false|  false|false|          false|         false|       false|           Day|           Day|              Day|                  Day|\n",
      "|MapQuest|201.0|       2|2016-02-08 07:59:35|2016-02-08 08:29:35|39.758274|-84.230507|         0.0|Accident on Oakri...|      N Woodward Ave|   R|      Dayton|Montgomery|   OH|45417-2476|     US|US/Eastern|        KDAY|2016-02-08 07:56:00|          34.0|      100.0|       29.66|           7.0|           WSW|            3.5|             null|         Overcast|  false|false|   false|   false|   false|  false|  false|     false|  false|false|          false|         false|       false|           Day|           Day|              Day|                  Day|\n",
      "|MapQuest|201.0|       3|2016-02-08 07:59:58|2016-02-08 08:29:58|39.770382|-84.194901|        0.01|Accident on I-75 ...|           N Main St|   R|      Dayton|Montgomery|   OH|     45405|     US|US/Eastern|        KDAY|2016-02-08 07:56:00|          34.0|      100.0|       29.66|           7.0|           WSW|            3.5|             null|         Overcast|  false|false|   false|   false|   false|  false|  false|     false|  false|false|          false|         false|       false|           Day|           Day|              Day|                  Day|\n",
      "|MapQuest|201.0|       2|2016-02-08 08:00:40|2016-02-08 08:30:40|39.778061|-84.172005|         0.0|Accident on Notre...|      Notre Dame Ave|   L|      Dayton|Montgomery|   OH|45404-1923|     US|US/Eastern|        KFFO|2016-02-08 07:58:00|          33.3|       99.0|       29.67|           5.0|            SW|            1.2|             null|    Mostly Cloudy|  false|false|   false|   false|   false|  false|  false|     false|  false|false|          false|         false|       false|           Day|           Day|              Day|                  Day|\n",
      "|MapQuest|201.0|       3|2016-02-08 08:10:04|2016-02-08 08:40:04| 40.10059|-82.925194|        0.01|Right hand should...|      Westerville Rd|   R| Westerville|  Franklin|   OH|     43081|     US|US/Eastern|        KCMH|2016-02-08 08:28:00|          37.4|      100.0|       29.62|           3.0|           SSW|            4.6|             0.02|       Light Rain|  false|false|   false|   false|   false|  false|  false|     false|  false|false|          false|         false|       false|           Day|           Day|              Day|                  Day|\n",
      "|MapQuest|201.0|       3|2016-02-08 08:14:42|2016-02-08 08:44:42|39.952812|-83.119293|        0.01|Accident on I-270...|         Outerbelt S|   R|    Columbus|  Franklin|   OH|     43228|     US|US/Eastern|        KTZR|2016-02-08 07:50:00|          35.6|       93.0|       29.64|           5.0|           WNW|            5.8|             null|             Rain|  false|false|   false|   false|   false|  false|  false|     false|  false|false|          false|         false|       false|           Day|           Day|              Day|                  Day|\n",
      "|MapQuest|241.0|       3|2016-02-08 08:21:27|2016-02-08 08:51:27|39.932709| -82.83091|        0.01|One lane blocked ...|              I-70 E|   R|Reynoldsburg|  Franklin|   OH|     43068|     US|US/Eastern|        KCMH|2016-02-08 08:28:00|          37.4|      100.0|       29.62|           3.0|           SSW|            4.6|             0.02|       Light Rain|  false|false|   false|   false|    true|  false|  false|     false|  false|false|          false|         false|       false|           Day|           Day|              Day|                  Day|\n",
      "|MapQuest|201.0|       2|2016-02-08 08:36:34|2016-02-08 09:06:34|39.737633|-84.149933|         0.0|Accident on Rever...|      Watervliet Ave|   R|      Dayton|Montgomery|   OH|45420-1863|     US|US/Eastern|        KFFO|2016-02-08 08:28:00|          33.8|      100.0|       29.63|           3.0|            SW|            2.3|             null|         Overcast|  false|false|   false|   false|   false|  false|  false|     false|  false|false|          false|         false|       false|           Day|           Day|              Day|                  Day|\n",
      "|MapQuest|201.0|       2|2016-02-08 08:37:07|2016-02-08 09:07:07| 39.79076|-84.241547|        0.01|Accident on Salem...|           Salem Ave|   L|      Dayton|Montgomery|   OH|45406-2708|     US|US/Eastern|        KDAY|2016-02-08 08:56:00|          36.0|       89.0|       29.65|          10.0|            NW|            5.8|             null|    Mostly Cloudy|  false|false|   false|   false|   false|  false|  false|     false|  false|false|          false|          true|       false|           Day|           Day|              Day|                  Day|\n",
      "|MapQuest|201.0|       2|2016-02-08 08:39:43|2016-02-08 09:09:43|39.972038|-82.913521|        0.01|Accident on OH-16...|          E Broad St|   L|    Columbus|  Franklin|   OH|43213-1006|     US|US/Eastern|        KCMH|2016-02-08 08:28:00|          37.4|      100.0|       29.62|           3.0|           SSW|            4.6|             0.02|       Light Rain|  false|false|   false|   false|   false|  false|  false|     false|  false|false|          false|          true|       false|           Day|           Day|              Day|                  Day|\n",
      "|MapQuest|201.0|       2|2016-02-08 08:43:20|2016-02-08 09:13:20|39.745888| -84.17041|        0.01|Accident on Wayne...|         Glencoe Ave|   R|      Dayton|Montgomery|   OH|45410-1721|     US|US/Eastern|        KFFO|2016-02-08 08:28:00|          33.8|      100.0|       29.63|           3.0|            SW|            2.3|             null|         Overcast|  false|false|   false|   false|   false|  false|  false|     false|  false|false|          false|         false|       false|           Day|           Day|              Day|                  Day|\n",
      "|MapQuest|201.0|       2|2016-02-08 08:53:17|2016-02-08 09:23:17|39.748329|-84.224007|        0.01|Accident on James...|S James H McGee Blvd|   R|      Dayton|Montgomery|   OH|     45402|     US|US/Eastern|        KFFO|2016-02-08 08:58:00|          35.6|       99.0|       29.65|           7.0|           WSW|            2.3|             null|    Mostly Cloudy|  false|false|   false|   false|   false|  false|  false|     false|  false|false|          false|         false|       false|           Day|           Day|              Day|                  Day|\n",
      "|MapQuest|201.0|       2|2016-02-08 09:24:37|2016-02-08 09:54:37|39.752174|-84.239952|         0.0|Accident on Delph...|         Delphos Ave|   R|      Dayton|Montgomery|   OH|45417-1727|     US|US/Eastern|        KDAY|2016-02-08 08:56:00|          36.0|       89.0|       29.65|          10.0|            NW|            5.8|             null|    Mostly Cloudy|  false|false|   false|   false|   false|  false|  false|     false|  false|false|          false|         false|       false|           Day|           Day|              Day|                  Day|\n",
      "|MapQuest|201.0|       2|2016-02-08 09:25:17|2016-02-08 09:55:17|39.740669|-84.184135|        0.01|Accident on Stewa...|          Rubicon St|   L|      Dayton|Montgomery|   OH|45409-2659|     US|US/Eastern|        KFFO|2016-02-08 09:38:00|          37.4|       93.0|       29.63|          10.0|           WSW|            6.9|             null|         Overcast|  false|false|    true|   false|   false|  false|  false|     false|  false|false|          false|          true|       false|           Day|           Day|              Day|                  Day|\n",
      "|MapQuest|201.0|       2|2016-02-08 09:35:35|2016-02-08 10:05:35|39.790703|-84.244461|        0.01|Accident on Hillc...|     W Hillcrest Ave|   R|      Dayton|Montgomery|   OH|45406-2640|     US|US/Eastern|        KDAY|2016-02-08 09:56:00|          36.0|       89.0|       29.65|          10.0|          West|            6.9|             null|    Mostly Cloudy|  false|false|   false|   false|   false|  false|  false|     false|  false|false|          false|         false|       false|           Day|           Day|              Day|                  Day|\n",
      "+--------+-----+--------+-------------------+-------------------+---------+----------+------------+--------------------+--------------------+----+------------+----------+-----+----------+-------+----------+------------+-------------------+--------------+-----------+------------+--------------+--------------+---------------+-----------------+-----------------+-------+-----+--------+--------+--------+-------+-------+----------+-------+-----+---------------+--------------+------------+--------------+--------------+-----------------+---------------------+\n",
      "only showing top 20 rows\n",
      "\n"
     ]
    }
   ],
   "source": [
    "from pyspark.sql.functions import mean\n",
    "# taking mean values for temperature, pressure, humidity,visibility,Wind_Speed and Precipitation\n",
    "# for temperature\n",
    "temp_mean = df.select(mean(df['Temperature(F)'])).collect()\n",
    "mean_temp = temp_mean[0][0]\n",
    "# filling null value with average of temperature data\n",
    "df.na.fill(mean_temp,[\"Temperature(F)\"]).show()"
   ]
  },
  {
   "cell_type": "code",
   "execution_count": null,
   "metadata": {
    "id": "Wr9B6RtQT5p7",
    "outputId": "9b2bf234-3480-46fb-a944-a190a2f55caf"
   },
   "outputs": [
    {
     "data": {
      "text/plain": [
       "DataFrame[Source: string, TMC: double, Severity: int, Start_Time: string, End_Time: string, Start_Lat: double, Start_Lng: double, Distance(mi): double, Description: string, Street: string, Side: string, City: string, County: string, State: string, Zipcode: string, Country: string, Timezone: string, Airport_Code: string, Weather_Timestamp: string, Temperature(F): double, Humidity(%): double, Pressure(in): double, Visibility(mi): double, Wind_Direction: string, Wind_Speed(mph): double, Precipitation(in): double, Weather_Condition: string, Amenity: boolean, Bump: boolean, Crossing: boolean, Give_Way: boolean, Junction: boolean, No_Exit: boolean, Railway: boolean, Roundabout: boolean, Station: boolean, Stop: boolean, Traffic_Calming: boolean, Traffic_Signal: boolean, Turning_Loop: boolean, Sunrise_Sunset: string, Civil_Twilight: string, Nautical_Twilight: string, Astronomical_Twilight: string]"
      ]
     },
     "execution_count": 11,
     "metadata": {
      "tags": []
     },
     "output_type": "execute_result"
    }
   ],
   "source": [
    "# for humidity\n",
    "df.na.fill(df.select(mean(df['Humidity(%)'])).collect()[0][0],['Humidity(%)'])\n",
    "# for visibility\n",
    "df.na.fill(df.select(mean(df['Visibility(mi)'])).collect()[0][0],['Visibility(mi)'])\n",
    "# for pressure\n",
    "df.na.fill(df.select(mean(df['Pressure(in)'])).collect()[0][0],['Pressure(in)'])\n",
    "# for wind speed\n",
    "df.na.fill(df.select(mean(df['Wind_Speed(mph)'])).collect()[0][0],['Wind_Speed(mph)'])\n",
    "# for precipitation\n",
    "df.na.fill(df.select(mean(df['Precipitation(in)'])).collect()[0][0],['Precipitation(in)'])"
   ]
  },
  {
   "cell_type": "code",
   "execution_count": null,
   "metadata": {
    "id": "dVhDsSUET5p7",
    "outputId": "7e30ffc5-385e-474b-cf48-e1f47f2049d8"
   },
   "outputs": [
    {
     "data": {
      "text/plain": [
       "899960"
      ]
     },
     "execution_count": 12,
     "metadata": {
      "tags": []
     },
     "output_type": "execute_result"
    }
   ],
   "source": [
    "# droping row with null values\n",
    "df.na.drop().count()"
   ]
  },
  {
   "cell_type": "code",
   "execution_count": null,
   "metadata": {
    "id": "-Xap65A1T5p7"
   },
   "outputs": [],
   "source": [
    "# describe\n",
    "df.describe().show()"
   ]
  },
  {
   "cell_type": "code",
   "execution_count": null,
   "metadata": {
    "id": "9gl8bbcsT5p8",
    "outputId": "f75f7628-1bb7-488e-e627-fad55eeaf328"
   },
   "outputs": [
    {
     "data": {
      "text/plain": [
       "['Source',\n",
       " 'TMC',\n",
       " 'Severity',\n",
       " 'Start_Time',\n",
       " 'End_Time',\n",
       " 'Start_Lat',\n",
       " 'Start_Lng',\n",
       " 'Distance(mi)',\n",
       " 'Description',\n",
       " 'Street',\n",
       " 'Side',\n",
       " 'City',\n",
       " 'County',\n",
       " 'State',\n",
       " 'Zipcode',\n",
       " 'Country',\n",
       " 'Timezone',\n",
       " 'Airport_Code',\n",
       " 'Weather_Timestamp',\n",
       " 'Temperature(F)',\n",
       " 'Humidity(%)',\n",
       " 'Pressure(in)',\n",
       " 'Visibility(mi)',\n",
       " 'Wind_Direction',\n",
       " 'Wind_Speed(mph)',\n",
       " 'Precipitation(in)',\n",
       " 'Weather_Condition',\n",
       " 'Amenity',\n",
       " 'Bump',\n",
       " 'Crossing',\n",
       " 'Give_Way',\n",
       " 'Junction',\n",
       " 'No_Exit',\n",
       " 'Railway',\n",
       " 'Roundabout',\n",
       " 'Station',\n",
       " 'Stop',\n",
       " 'Traffic_Calming',\n",
       " 'Traffic_Signal',\n",
       " 'Turning_Loop',\n",
       " 'Sunrise_Sunset']"
      ]
     },
     "execution_count": 15,
     "metadata": {
      "tags": []
     },
     "output_type": "execute_result"
    }
   ],
   "source": [
    "# droping other unwanted data\n",
    "column_to_drop = ['Civil_Twilight', 'Nautical_Twilight', 'Astronomical_Twilight']\n",
    "df = df.drop(*column_to_drop)\n",
    "df.columns"
   ]
  },
  {
   "cell_type": "code",
   "execution_count": null,
   "metadata": {
    "id": "YKIk-qygT5p8"
   },
   "outputs": [],
   "source": [
    "# generating dummy for source\n",
    "from pyspark.sql.functions import when\n",
    "df = df.withColumn(\"e_source_A\", when(df.Source == \"MapQuest\", 1).otherwise(0)).withColumn(\"e_source_B\", when(df.Source == \"MapQuest-Bing\", 1).otherwise(0)).withColumn(\"e_source_c\", when(df.Source == \"Bing\", 1).otherwise(0))"
   ]
  },
  {
   "cell_type": "code",
   "execution_count": null,
   "metadata": {
    "id": "VuhxRYIFT5p8",
    "outputId": "42f3da82-211e-436b-cf5a-9c38ed8bd29f"
   },
   "outputs": [
    {
     "name": "stdout",
     "output_type": "stream",
     "text": [
      "+-------------+-------+\n",
      "|       Source|  count|\n",
      "+-------------+-------+\n",
      "|         Bing|1034799|\n",
      "|     MapQuest|2414301|\n",
      "|MapQuest-Bing|  64517|\n",
      "+-------------+-------+\n",
      "\n"
     ]
    }
   ],
   "source": [
    "df.groupBy('Source').count().show()"
   ]
  },
  {
   "cell_type": "code",
   "execution_count": null,
   "metadata": {
    "id": "DJUYQXUsT5p8",
    "outputId": "02aec216-10fc-4072-e941-4147d07a7dfb"
   },
   "outputs": [
    {
     "data": {
      "text/plain": [
       "['Source',\n",
       " 'TMC',\n",
       " 'Severity',\n",
       " 'Start_Time',\n",
       " 'End_Time',\n",
       " 'Start_Lat',\n",
       " 'Start_Lng',\n",
       " 'Distance(mi)',\n",
       " 'Description',\n",
       " 'Street',\n",
       " 'Side',\n",
       " 'City',\n",
       " 'County',\n",
       " 'State',\n",
       " 'Zipcode',\n",
       " 'Country',\n",
       " 'Timezone',\n",
       " 'Airport_Code',\n",
       " 'Weather_Timestamp',\n",
       " 'Temperature(F)',\n",
       " 'Humidity(%)',\n",
       " 'Pressure(in)',\n",
       " 'Visibility(mi)',\n",
       " 'Wind_Direction',\n",
       " 'Wind_Speed(mph)',\n",
       " 'Precipitation(in)',\n",
       " 'Weather_Condition',\n",
       " 'Amenity',\n",
       " 'Bump',\n",
       " 'Crossing',\n",
       " 'Give_Way',\n",
       " 'Junction',\n",
       " 'No_Exit',\n",
       " 'Railway',\n",
       " 'Roundabout',\n",
       " 'Station',\n",
       " 'Stop',\n",
       " 'Traffic_Calming',\n",
       " 'Traffic_Signal',\n",
       " 'Turning_Loop',\n",
       " 'Sunrise_Sunset',\n",
       " 'e_source_A',\n",
       " 'e_source_B',\n",
       " 'e_source_c']"
      ]
     },
     "execution_count": 32,
     "metadata": {
      "tags": []
     },
     "output_type": "execute_result"
    }
   ],
   "source": [
    "# df.drop('Source').collect()\n",
    "df.columns"
   ]
  },
  {
   "cell_type": "code",
   "execution_count": null,
   "metadata": {
    "id": "Pu17wb3mT5p8"
   },
   "outputs": [],
   "source": [
    "# Taking time and date\n",
    "# from pyspark.sql.functions import format_number,dayofmonth,hour,dayofyear,month,year,weekofyear,date_format\n",
    "\n",
    "# df2 = df.withColumnRenamed(\"Month\",df.select(dayofmonth(df['Start_Time'])))\n",
    "# df2 = df.withColumnRenamed(\"Hour\",df.select(hour(df['Start_Time'])))\n",
    "# df2 = df.withColumnRenamed(\"Year\",df.select(dayofyear(df['Start_Time']))).show()\n"
   ]
  },
  {
   "cell_type": "code",
   "execution_count": null,
   "metadata": {
    "id": "kOCmXRaNT5p8",
    "outputId": "54e8bc77-f155-43a7-fe31-2ac8b1b2ab8b"
   },
   "outputs": [
    {
     "data": {
      "text/plain": [
       "['Source',\n",
       " 'TMC',\n",
       " 'Severity',\n",
       " 'Start_Time',\n",
       " 'End_Time',\n",
       " 'Start_Lat',\n",
       " 'Start_Lng',\n",
       " 'Distance(mi)',\n",
       " 'Description',\n",
       " 'Street',\n",
       " 'Side',\n",
       " 'City',\n",
       " 'County',\n",
       " 'State',\n",
       " 'Zipcode',\n",
       " 'Country',\n",
       " 'Timezone',\n",
       " 'Airport_Code',\n",
       " 'Weather_Timestamp',\n",
       " 'Temperature(F)',\n",
       " 'Humidity(%)',\n",
       " 'Pressure(in)',\n",
       " 'Visibility(mi)',\n",
       " 'Wind_Direction',\n",
       " 'Wind_Speed(mph)',\n",
       " 'Precipitation(in)',\n",
       " 'Weather_Condition',\n",
       " 'Amenity',\n",
       " 'Bump',\n",
       " 'Crossing',\n",
       " 'Give_Way',\n",
       " 'Junction',\n",
       " 'No_Exit',\n",
       " 'Railway',\n",
       " 'Roundabout',\n",
       " 'Station',\n",
       " 'Stop',\n",
       " 'Traffic_Calming',\n",
       " 'Traffic_Signal',\n",
       " 'Turning_Loop',\n",
       " 'Sunrise_Sunset',\n",
       " 'e_source_A',\n",
       " 'e_source_B',\n",
       " 'e_source_c',\n",
       " 'Duration']"
      ]
     },
     "execution_count": 17,
     "metadata": {
      "tags": []
     },
     "output_type": "execute_result"
    }
   ],
   "source": [
    "# calculating duration\n",
    "\n",
    "from pyspark.sql import functions as F\n",
    "timeFmt = \"yyyy-MM-dd'T'HH:mm:ss.SSS\"\n",
    "timeDiff = (F.unix_timestamp('End_Time', format=timeFmt)\n",
    "            - F.unix_timestamp('Start_Time', format=timeFmt))\n",
    "df = df.withColumn(\"Duration\", timeDiff)\n",
    "df.columns"
   ]
  },
  {
   "cell_type": "markdown",
   "metadata": {
    "id": "peUWTtyCT5p8"
   },
   "source": [
    "# Data visualization"
   ]
  },
  {
   "cell_type": "code",
   "execution_count": null,
   "metadata": {
    "colab": {
     "base_uri": "https://localhost:8080/",
     "height": 214
    },
    "executionInfo": {
     "elapsed": 2681,
     "status": "error",
     "timestamp": 1607347276455,
     "user": {
      "displayName": "Mugunthan R",
      "photoUrl": "https://lh3.googleusercontent.com/a-/AOh14GhCVxXpaXrQ-JK5a7Vy04sGYy2AdjjfnE8yJ-DG=s64",
      "userId": "05783290420153470599"
     },
     "user_tz": -330
    },
    "id": "8rngpl53T5p8",
    "outputId": "9ac1010c-1ea2-474c-931f-3d66fcbf209b"
   },
   "outputs": [
    {
     "ename": "NameError",
     "evalue": "ignored",
     "output_type": "error",
     "traceback": [
      "\u001b[0;31m---------------------------------------------------------------------------\u001b[0m",
      "\u001b[0;31mNameError\u001b[0m                                 Traceback (most recent call last)",
      "\u001b[0;32m<ipython-input-6-d5f0d59e721a>\u001b[0m in \u001b[0;36m<module>\u001b[0;34m()\u001b[0m\n\u001b[1;32m      4\u001b[0m \u001b[0;32mimport\u001b[0m \u001b[0mplotly\u001b[0m\u001b[0;34m.\u001b[0m\u001b[0mgraph_objects\u001b[0m \u001b[0;32mas\u001b[0m \u001b[0mgo\u001b[0m\u001b[0;34m\u001b[0m\u001b[0;34m\u001b[0m\u001b[0m\n\u001b[1;32m      5\u001b[0m \u001b[0;31m# converting pyspark to pandas\u001b[0m\u001b[0;34m\u001b[0m\u001b[0;34m\u001b[0m\u001b[0;34m\u001b[0m\u001b[0m\n\u001b[0;32m----> 6\u001b[0;31m \u001b[0mdata\u001b[0m \u001b[0;34m=\u001b[0m \u001b[0mdf\u001b[0m\u001b[0;34m.\u001b[0m\u001b[0mtoPandas\u001b[0m\u001b[0;34m(\u001b[0m\u001b[0;34m)\u001b[0m\u001b[0;34m\u001b[0m\u001b[0;34m\u001b[0m\u001b[0m\n\u001b[0m\u001b[1;32m      7\u001b[0m \u001b[0;31m# data = pd.read_csv('US_Accidents_June20.csv')\u001b[0m\u001b[0;34m\u001b[0m\u001b[0;34m\u001b[0m\u001b[0;34m\u001b[0m\u001b[0m\n",
      "\u001b[0;31mNameError\u001b[0m: name 'df' is not defined"
     ]
    }
   ],
   "source": [
    "import pandas as pd\n",
    "import seaborn as sns\n",
    "import matplotlib.pyplot as plt\n",
    "import plotly.graph_objects as go\n",
    "# converting pyspark to pandas\n",
    "data = df.toPandas()\n",
    "# data = pd.read_csv('US_Accidents_June20.csv')"
   ]
  },
  {
   "cell_type": "code",
   "execution_count": null,
   "metadata": {
    "colab": {
     "base_uri": "https://localhost:8080/",
     "height": 231
    },
    "executionInfo": {
     "elapsed": 2691,
     "status": "error",
     "timestamp": 1607347276470,
     "user": {
      "displayName": "Mugunthan R",
      "photoUrl": "https://lh3.googleusercontent.com/a-/AOh14GhCVxXpaXrQ-JK5a7Vy04sGYy2AdjjfnE8yJ-DG=s64",
      "userId": "05783290420153470599"
     },
     "user_tz": -330
    },
    "id": "OTGorFLpT5p8",
    "outputId": "051348e7-eb4d-4ab6-d5e2-476367ccf7f7"
   },
   "outputs": [
    {
     "ename": "NameError",
     "evalue": "ignored",
     "output_type": "error",
     "traceback": [
      "\u001b[0;31m---------------------------------------------------------------------------\u001b[0m",
      "\u001b[0;31mNameError\u001b[0m                                 Traceback (most recent call last)",
      "\u001b[0;32m<ipython-input-7-c3c6d819ddad>\u001b[0m in \u001b[0;36m<module>\u001b[0;34m()\u001b[0m\n\u001b[1;32m      1\u001b[0m \u001b[0;31m# visualize traffic region\u001b[0m\u001b[0;34m\u001b[0m\u001b[0;34m\u001b[0m\u001b[0;34m\u001b[0m\u001b[0m\n\u001b[0;32m----> 2\u001b[0;31m \u001b[0mstate_count_acc\u001b[0m \u001b[0;34m=\u001b[0m \u001b[0mpd\u001b[0m\u001b[0;34m.\u001b[0m\u001b[0mvalue_counts\u001b[0m\u001b[0;34m(\u001b[0m\u001b[0mdata\u001b[0m\u001b[0;34m[\u001b[0m\u001b[0;34m'State'\u001b[0m\u001b[0;34m]\u001b[0m\u001b[0;34m)\u001b[0m\u001b[0;34m\u001b[0m\u001b[0;34m\u001b[0m\u001b[0m\n\u001b[0m\u001b[1;32m      3\u001b[0m \u001b[0;34m\u001b[0m\u001b[0m\n\u001b[1;32m      4\u001b[0m fig = go.Figure(data=go.Choropleth(\n\u001b[1;32m      5\u001b[0m     \u001b[0mlocations\u001b[0m\u001b[0;34m=\u001b[0m\u001b[0mstate_count_acc\u001b[0m\u001b[0;34m.\u001b[0m\u001b[0mindex\u001b[0m\u001b[0;34m,\u001b[0m\u001b[0;34m\u001b[0m\u001b[0;34m\u001b[0m\u001b[0m\n",
      "\u001b[0;31mNameError\u001b[0m: name 'data' is not defined"
     ]
    }
   ],
   "source": [
    "# visualize traffic region\n",
    "state_count_acc = pd.value_counts(data['State'])\n",
    "\n",
    "fig = go.Figure(data=go.Choropleth(\n",
    "    locations=state_count_acc.index,\n",
    "    z = state_count_acc.values.astype(float),\n",
    "    locationmode = 'USA-states',\n",
    "    colorscale = 'Reds',\n",
    "    colorbar_title = \"Count Accidents\",))\n",
    "\n",
    "fig.update_layout(\n",
    "    title_text = '2016 - 2019 US Traffic Accident Dataset by State',\n",
    "    geo_scope='usa',)\n",
    "\n",
    "fig.show()"
   ]
  },
  {
   "cell_type": "code",
   "execution_count": null,
   "metadata": {
    "id": "RCwMiPK8T5p8"
   },
   "outputs": [],
   "source": [
    "# df_county = pd.read_csv('https://raw.githubusercontent.com/plotly/datasets/master/laucnty16.csv')"
   ]
  },
  {
   "cell_type": "code",
   "execution_count": null,
   "metadata": {
    "id": "Isoijhv5ZZfs"
   },
   "outputs": [],
   "source": [
    "import random\n",
    "import folium\n",
    "from folium import plugins\n",
    "from mpl_toolkits.basemap import Basemap\n",
    "from matplotlib import animation,rc\n",
    "from IPython.display import HTML, display\n",
    "import io\n",
    "import warnings\n",
    "warnings.filterwarnings('ignore')\n",
    "import codecs\n",
    "import base64\n",
    "import plotly.express as px\n",
    "import plotly.figure_factory as ff\n",
    "import plotly.graph_objects as go\n",
    "\n",
    "plt.style.use(\"fivethirtyeight\")\n",
    "plt.rcParams['figure.figsize'] = (8, 6)"
   ]
  },
  {
   "cell_type": "code",
   "execution_count": null,
   "metadata": {
    "id": "LemMrarHT5p8"
   },
   "outputs": [],
   "source": [
    "# Accident zone via city\n",
    "data_sever = data.sample(n=10000)[['Start_Lng','Start_Lat','City','Visibility(mi)','Severity']]\n",
    "data_sever.dropna(inplace=True)\n",
    "\n",
    "fig = go.Figure(data=go.Scattergeo(\n",
    "        locationmode = 'USA-states',\n",
    "        lon = data_sever['Start_Lng'],\n",
    "        lat = data_sever['Start_Lat'],\n",
    "        text = data_sever['City'],\n",
    "        mode = 'markers',\n",
    "        marker = dict(\n",
    "            size = data_sever['Visibility(mi)'],\n",
    "            opacity = 0.8,\n",
    "            reversescale = True,\n",
    "            autocolorscale = False,\n",
    "            symbol = 'circle',\n",
    "            line = dict(\n",
    "                width=1,\n",
    "                color='rgba(102, 102, 102)'\n",
    "            ),\n",
    "            colorscale = 'Blues',\n",
    "            cmin = data_sever['Severity'].max(),\n",
    "        color = data_sever['Severity'],\n",
    "        cmax = 1,\n",
    "            colorbar_title=\"Severity\"\n",
    "        )))\n",
    "\n",
    "fig.update_layout(\n",
    "        title = 'Severity & Visibility of accidents',\n",
    "        geo = dict(\n",
    "            scope='usa',\n",
    "            projection_type='albers usa',\n",
    "            showland = True,\n",
    "            landcolor = \"rgb(250, 250, 250)\",\n",
    "            subunitcolor = \"rgb(217, 217, 217)\",\n",
    "            countrycolor = \"rgb(217, 217, 217)\",\n",
    "            countrywidth = 0.7,\n",
    "            subunitwidth = 0.7\n",
    "        ),\n",
    "    )\n",
    "fig.show()"
   ]
  },
  {
   "cell_type": "code",
   "execution_count": null,
   "metadata": {
    "id": "fZZoPqpMaCqf"
   },
   "outputs": [],
   "source": [
    "# Bay area heat map\n",
    "bay_area_counties=['Alameda' 'San Francisco', 'San Mateo', 'Santa Clara',]\n",
    "CA=df[df[\"State\"]=='CA']\n",
    "bay_area=CA[CA['County'].isin(bay_area_counties)]\n",
    "bay_area['Start_Time']=pd.to_datetime(bay_area['Start_Time'])\n",
    "\n",
    "fig1 = px.density_mapbox(bay_area, lat='Start_Lat', lon='Start_Lng', radius=5, color_continuous_scale='Reds',\n",
    "                        mapbox_style=\"stamen-terrain\",)\n",
    "fig1.update_layout(title = 'Bay Area Accidents Heatmap')\n",
    "\n",
    "fig1.show()"
   ]
  },
  {
   "cell_type": "code",
   "execution_count": null,
   "metadata": {
    "id": "ZSnE9bduak09"
   },
   "outputs": [],
   "source": [
    "bay_area['roundlat']=bay_area['Start_Lat'].round(3)\n",
    "bay_area['roundlon']=bay_area['Start_Lng'].round(3)\n",
    "hotspot_bayarea=bay_area.groupby(['roundlat', 'roundlon'])['ID'].count().sort_values(ascending=False).reset_index()[:50]\n",
    "hotspot_bayarea.columns=['lat','lon','count']\n",
    "\n",
    "m= folium.Map(location=[37.38, -122.08], zoom_start=10,)\n",
    "\n",
    "for lat, lng, size, in zip(hotspot_bayarea.lat, hotspot_bayarea.lon, hotspot_bayarea['count']):\n",
    "    folium.CircleMarker(\n",
    "        location=[lat, lng],\n",
    "        radius=size/20,\n",
    "        color='red',\n",
    "        fill=True,\n",
    "        fill_color='yellow',\n",
    "        fill_opacity=0.4\n",
    "    ).add_to(m)"
   ]
  },
  {
   "cell_type": "code",
   "execution_count": null,
   "metadata": {
    "id": "EDqOq1FAauyX"
   },
   "outputs": [],
   "source": [
    "# Average severity at different hour\n",
    "df.groupby('Accident_hour')['Severity'].mean().plot(kind='line')\n",
    "plt.xlabel('Hour of the day')\n",
    "plt.ylabel('Average Severity')\n",
    "plt.title('Average severity at different hours')\n",
    "plt.tight_layout()"
   ]
  },
  {
   "cell_type": "code",
   "execution_count": null,
   "metadata": {
    "id": "jVQ8hV17a49P"
   },
   "outputs": [],
   "source": [
    "# Average severity at different month\n",
    "df['Accident_month']=df['Start_Time'].dt.month\n",
    "df.groupby('Accident_month')['Severity'].mean().plot(kind='line')\n",
    "plt.ylabel('Average Severity')\n",
    "plt.title('Average Severity by Month')"
   ]
  },
  {
   "cell_type": "code",
   "execution_count": null,
   "metadata": {
    "id": "hfpGQFcQXxJ3"
   },
   "outputs": [],
   "source": [
    "# 10 most accident states\n",
    "sns.countplot(df['State'], order=df['State'].value_counts().iloc[:10].index)\n",
    "plt.xticks(rotation=0)\n",
    "plt.title(\"Top 10 states with the most accidents\", fontsize=25)\n",
    "plt.tight_layout()"
   ]
  },
  {
   "cell_type": "code",
   "execution_count": null,
   "metadata": {
    "id": "IfCBop31YSa9"
   },
   "outputs": [],
   "source": [
    "# Total accident by hour\n",
    "#convert datetime\n",
    "df.Start_Time=pd.to_datetime(df.Start_Time)\n",
    "df.End_Time=pd.to_datetime(df.End_Time)\n",
    "\n",
    "#Plot the total accidents by years\n",
    "sns.countplot(df['Start_Time'].dt.hour, hue=df['Severity'])\n",
    "plt.xticks(rotation=0)\n",
    "plt.title(\"Total accidents by hour\", fontsize=25)\n",
    "plt.tight_layout()"
   ]
  },
  {
   "cell_type": "code",
   "execution_count": null,
   "metadata": {
    "id": "78C4ub3RYpvc"
   },
   "outputs": [],
   "source": [
    "# Total accident by different month\n",
    "#Plot the total accidents by years\n",
    "sns.countplot(df['Start_Time'].dt.month)\n",
    "plt.xticks(rotation=0)\n",
    "plt.title(\"Total accidents by month\", fontsize=25)\n",
    "plt.tight_layout()"
   ]
  },
  {
   "cell_type": "code",
   "execution_count": null,
   "metadata": {
    "id": "3aOUzBfWbzSS"
   },
   "outputs": [],
   "source": [
    "# accident by year\n",
    "data = [go.Bar(x=[2016,2017,2018,2019,2020],\n",
    "               y=accidents_years['Year'])]\n",
    "\n",
    "layout = go.Layout(title='Accidents by year 2016-June 2020',\n",
    "                   xaxis={'title':'Year'},\n",
    "                   yaxis={'title':'Number of accidents'},\n",
    "                   width=700,\n",
    "                   height=600)\n",
    "\n",
    "\n",
    "fig = go.Figure(data=data, layout=layout)\n",
    "fig.update_yaxes(nticks=4)\n",
    "\n",
    "py.iplot(fig)"
   ]
  },
  {
   "cell_type": "code",
   "execution_count": null,
   "metadata": {
    "id": "fPpgf84oT5p8"
   },
   "outputs": [],
   "source": [
    "# def weather(kind):\n",
    "#     if 'Rain' in kind or 'Snow' in kind or 'Storm' in kind or 'Thunder' in kind or 'Drizzle' in kind:\n",
    "#         return 'Slippery'\n",
    "#     elif 'Fog' in kind or 'Smoke' in kind or 'Haze' in kind or 'Mist'in kind:\n",
    "#         return 'Vis_obstruct'\n",
    "#     else:\n",
    "#         return 'Fair'\n",
    "    \n",
    "# weather = df.weather(df[\"Weather_Condition\"])\n"
   ]
  },
  {
   "cell_type": "code",
   "execution_count": null,
   "metadata": {
    "id": "M9ty5nl2T5p8"
   },
   "outputs": [],
   "source": [
    "df = df.withColumn(\"Amenity_1\", when(df.Amenity == \"TRUE\", 1).otherwise(0))\n",
    "df = df.withColumn(\"Bump_1\", when(df.Bump == \"TRUE\", 1).otherwise(0))\n",
    "df = df.withColumn(\"Crossing_1\", when(df.Crossing == \"TRUE\", 1).otherwise(0))\n",
    "df = df.withColumn(\"Give_Way_1\", when(df.Give_Way == \"TRUE\", 1).otherwise(0))\n",
    "df = df.withColumn(\"No_Exit_1\", when(df.No_Exit == \"TRUE\", 1).otherwise(0))\n",
    "df = df.withColumn(\"Railway_1\", when(df.Railway == \"TRUE\", 1).otherwise(0))\n",
    "df = df.withColumn(\"Roundabout_1\", when(df.Roundabout == \"TRUE\", 1).otherwise(0))\n",
    "df = df.withColumn(\"Station_1\", when(df.Station == \"TRUE\", 1).otherwise(0))\n",
    "df = df.withColumn(\"Traffic_Calming_1\", when(df.Traffic_Calming == \"TRUE\", 1).otherwise(0))\n",
    "df = df.withColumn(\"Traffic_Signal_1\", when(df.Traffic_Signal == \"TRUE\", 1).otherwise(0))\n",
    "df = df.withColumn(\"Turning_Loop_1\", when(df.Turning_Loop == \"TRUE\", 1).otherwise(0))\n",
    "df = df.withColumn(\"Sunrise_Sunset_1\", when(df.Sunrise_Sunset == \"DAY\", 1).otherwise(0))\n",
    "df = df.withColumn(\"Side_1\", when(df.Side == \"L\", 1).otherwise(0))"
   ]
  },
  {
   "cell_type": "code",
   "execution_count": null,
   "metadata": {
    "id": "z7RNLbS0T5p8"
   },
   "outputs": [],
   "source": [
    "column_to_drop = ['Source','Amenity','Bump','Crossing','Give_Way','No_Exit','Railway','Roundabout','Station','Traffic_Calming','Traffic_Signal','Turning_Loop','Sunrise_Sunset','Start_Time','End_Time','Description','Street','Side','City','County','State',\n",
    " 'Zipcode',\n",
    " 'Country',\n",
    " 'Timezone','Airport_Code','Weather_Timestamp','Wind_Direction','Weather_Condition']\n",
    "df = df.drop(*column_to_drop)\n",
    "df.columns"
   ]
  },
  {
   "cell_type": "code",
   "execution_count": null,
   "metadata": {
    "id": "-Q7Lmkn-T5p9"
   },
   "outputs": [],
   "source": [
    "df.groupBy('Severity').count().show()"
   ]
  },
  {
   "cell_type": "markdown",
   "metadata": {
    "id": "EWi4enxfT5p9"
   },
   "source": [
    "# Cleaned data"
   ]
  },
  {
   "cell_type": "code",
   "execution_count": null,
   "metadata": {
    "id": "ZMhlastzT5p9",
    "outputId": "60cbc918-f7ec-4529-85d6-7b9f04b0005c"
   },
   "outputs": [
    {
     "name": "stdout",
     "output_type": "stream",
     "text": [
      "root\n",
      " |-- TMC: double (nullable = true)\n",
      " |-- Severity: integer (nullable = true)\n",
      " |-- Start_Lat: double (nullable = true)\n",
      " |-- Start_Lng: double (nullable = true)\n",
      " |-- Distance(mi): double (nullable = true)\n",
      " |-- Temperature(F): double (nullable = true)\n",
      " |-- Humidity(%): double (nullable = true)\n",
      " |-- Pressure(in): double (nullable = true)\n",
      " |-- Visibility(mi): double (nullable = true)\n",
      " |-- Wind_Speed(mph): double (nullable = true)\n",
      " |-- Precipitation(in): double (nullable = true)\n",
      " |-- Junction: boolean (nullable = true)\n",
      " |-- Stop: boolean (nullable = true)\n",
      " |-- e_source_A: integer (nullable = false)\n",
      " |-- e_source_B: integer (nullable = false)\n",
      " |-- e_source_c: integer (nullable = false)\n",
      " |-- Duration: long (nullable = true)\n",
      " |-- Amenity_1: integer (nullable = false)\n",
      " |-- Bump_1: integer (nullable = false)\n",
      " |-- Crossing_1: integer (nullable = false)\n",
      " |-- Give_Way_1: integer (nullable = false)\n",
      " |-- No_Exit_1: integer (nullable = false)\n",
      " |-- Railway_1: integer (nullable = false)\n",
      " |-- Roundabout_1: integer (nullable = false)\n",
      " |-- Station_1: integer (nullable = false)\n",
      " |-- Traffic_Calming_1: integer (nullable = false)\n",
      " |-- Traffic_Signal_1: integer (nullable = false)\n",
      " |-- Turning_Loop_1: integer (nullable = false)\n",
      " |-- Sunrise_Sunset_1: integer (nullable = false)\n",
      " |-- Side_1: integer (nullable = false)\n",
      "\n"
     ]
    }
   ],
   "source": [
    "df.printSchema()"
   ]
  },
  {
   "cell_type": "markdown",
   "metadata": {
    "id": "GfU-6SqXT5p9"
   },
   "source": [
    "# Format for MLlib"
   ]
  },
  {
   "cell_type": "code",
   "execution_count": null,
   "metadata": {
    "id": "zF0jPCXhT5p9"
   },
   "outputs": [],
   "source": [
    "from pyspark.ml.feature import VectorAssembler\n",
    "assembler = VectorAssembler(inputCols=['TMC',\n",
    " 'Start_Lat',\n",
    " 'Start_Lng',\n",
    " 'Distance(mi)',\n",
    " 'Temperature(F)',\n",
    " 'Humidity(%)',\n",
    " 'Pressure(in)',\n",
    " 'Visibility(mi)',\n",
    " 'Wind_Speed(mph)',\n",
    " 'Precipitation(in)',\n",
    " 'Junction',\n",
    " 'Stop',\n",
    " 'e_source_A',\n",
    " 'e_source_B',\n",
    " 'e_source_c',\n",
    " 'Duration',\n",
    " 'Amenity_1',\n",
    " 'Bump_1',\n",
    " 'Crossing_1',\n",
    " 'Give_Way_1',\n",
    " 'No_Exit_1',\n",
    " 'Railway_1',\n",
    " 'Roundabout_1',\n",
    " 'Station_1',\n",
    " 'Traffic_Calming_1',\n",
    " 'Traffic_Signal_1',\n",
    " 'Turning_Loop_1',\n",
    " 'Sunrise_Sunset_1',\n",
    " 'Side_1'],outputCol='features')"
   ]
  },
  {
   "cell_type": "code",
   "execution_count": null,
   "metadata": {
    "id": "Ztpe2uvwT5p9"
   },
   "outputs": [],
   "source": [
    "output = assembler.transform(df)\n",
    "final_data = output.select('features','Severity')"
   ]
  },
  {
   "cell_type": "markdown",
   "metadata": {
    "id": "OxnScEOfT5p9"
   },
   "source": [
    "# Classification for Severity"
   ]
  },
  {
   "cell_type": "markdown",
   "metadata": {
    "id": "YPU38oo9T5p9"
   },
   "source": [
    "# train and test split"
   ]
  },
  {
   "cell_type": "code",
   "execution_count": null,
   "metadata": {
    "id": "U8rZ_mKrT5p9"
   },
   "outputs": [],
   "source": [
    "train_churn,test_churn = final_data.randomSplit([0.7,0.3])"
   ]
  },
  {
   "cell_type": "code",
   "execution_count": null,
   "metadata": {
    "id": "DYBFDMqJT5p9"
   },
   "outputs": [],
   "source": [
    "from pyspark.ml.classification import LogisticRegression"
   ]
  },
  {
   "cell_type": "code",
   "execution_count": null,
   "metadata": {
    "id": "Tx-yNr9pT5p-"
   },
   "outputs": [],
   "source": [
    "lr_churn = LogisticRegression(labelCol='Severity')"
   ]
  },
  {
   "cell_type": "code",
   "execution_count": null,
   "metadata": {
    "id": "OqmJLqI_T5p-"
   },
   "outputs": [],
   "source": [
    "# fitted_churn_model = lr_churn.fit(train_churn)"
   ]
  },
  {
   "cell_type": "code",
   "execution_count": null,
   "metadata": {
    "id": "FPyIvipsT5p-"
   },
   "outputs": [],
   "source": []
  },
  {
   "cell_type": "code",
   "execution_count": null,
   "metadata": {
    "id": "roOD8gXUT5p-"
   },
   "outputs": [],
   "source": []
  }
 ],
 "metadata": {
  "colab": {
   "collapsed_sections": [
    "EWi4enxfT5p9",
    "GfU-6SqXT5p9",
    "OxnScEOfT5p9",
    "YPU38oo9T5p9"
   ],
   "name": "pyspark_project.ipynb",
   "provenance": []
  },
  "kernelspec": {
   "display_name": "Python 3",
   "language": "python",
   "name": "python3"
  },
  "language_info": {
   "codemirror_mode": {
    "name": "ipython",
    "version": 3
   },
   "file_extension": ".py",
   "mimetype": "text/x-python",
   "name": "python",
   "nbconvert_exporter": "python",
   "pygments_lexer": "ipython3",
   "version": "3.8.5"
  }
 },
 "nbformat": 4,
 "nbformat_minor": 1
}
